{
 "cells": [
  {
   "cell_type": "code",
   "execution_count": null,
   "metadata": {},
   "outputs": [],
   "source": [
    "from ultralytics import YOLO"
   ]
  },
  {
   "cell_type": "markdown",
   "metadata": {},
   "source": [
    "## Training models"
   ]
  },
  {
   "cell_type": "markdown",
   "metadata": {},
   "source": [
    "### Training YOLOv3 "
   ]
  },
  {
   "cell_type": "code",
   "execution_count": null,
   "metadata": {},
   "outputs": [],
   "source": [
    "\"\"\"\n",
    "Replace the model_configuration.yaml and data.yaml files with your own configuration files.\n",
    "The model_configuration.yaml file should contain the model configuration.\n",
    "The data.yaml file should contain the data configuration.\n",
    "YOLOv3.yaml for training YOLOv3\n",
    "YOLOv5n.yaml for training YOLOv5n\n",
    "YOLOv5s.yaml for training YOLOv5s\n",
    "YOLOv5m.yaml for training YOLOv5m\n",
    "YOLOv5l.yaml for training YOLOv5l\n",
    "YOLOv6n.yaml for training YOLOv6n\n",
    "YOLOv6s.yaml for training YOLOv6s\n",
    "YOLOv6m.yaml for training YOLOv6m\n",
    "YOLOv6l.yaml for training YOLOv6l\n",
    "YOLOv8n.yaml for training YOLOv8n\n",
    "YOLOv8s.yaml for training YOLOv8s\n",
    "YOLOv8m.yaml for training YOLOv8m\n",
    "YOLOv8l.yaml for training YOLOv8l\n",
    "\"\"\"\n",
    "model = YOLO(\"model_configuration.yaml\")\n",
    "model.train(data=\"data.yaml\", epochs=1000, imgsz=(480, 640),  patience=300)"
   ]
  },
  {
   "cell_type": "markdown",
   "metadata": {},
   "source": [
    "### Inference of YOLOv3"
   ]
  },
  {
   "cell_type": "code",
   "execution_count": null,
   "metadata": {},
   "outputs": [],
   "source": [
    "\"\"\"Add the path to the model you want to use for prediction\"\"\"\n",
    "! yolo predict model=model_path source=path_to_test_images"
   ]
  }
 ],
 "metadata": {
  "kernelspec": {
   "display_name": "Python 3",
   "language": "python",
   "name": "python3"
  },
  "language_info": {
   "codemirror_mode": {
    "name": "ipython",
    "version": 3
   },
   "file_extension": ".py",
   "mimetype": "text/x-python",
   "name": "python",
   "nbconvert_exporter": "python",
   "pygments_lexer": "ipython3",
   "version": "3.10.12"
  }
 },
 "nbformat": 4,
 "nbformat_minor": 2
}
