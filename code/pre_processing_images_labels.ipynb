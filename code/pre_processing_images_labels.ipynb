{
 "cells": [
  {
   "cell_type": "code",
   "execution_count": 1,
   "metadata": {},
   "outputs": [],
   "source": [
    "import json\n",
    "import os\n",
    "import shutil\n",
    "import random"
   ]
  },
  {
   "cell_type": "markdown",
   "metadata": {},
   "source": [
    "### Converting JSON to YOLO input format"
   ]
  },
  {
   "cell_type": "code",
   "execution_count": 2,
   "metadata": {},
   "outputs": [],
   "source": [
    "def convert_to_yolo_format(json_data, img_width, img_height):\n",
    "    \"\"\"\n",
    "    Function to convert json labels data to yolo format\n",
    "    \n",
    "    Args:\n",
    "        json_data (dict): json data from X-anylabelling\n",
    "        img_width (int): width of the image\n",
    "        img_height (int): height of the image\n",
    "    \"\"\"\n",
    "    yolo_format = []\n",
    "\n",
    "    for shape in json_data[\"shapes\"]:\n",
    "        points = shape[\"points\"]\n",
    "        \n",
    "        x_coords = [p[0] for p in points]\n",
    "        y_coords = [p[1] for p in points]\n",
    "\n",
    "        xmin = min(x_coords)\n",
    "        xmax = max(x_coords)\n",
    "        ymin = min(y_coords)\n",
    "        ymax = max(y_coords)\n",
    "\n",
    "        x_center = (xmin + xmax) / 2\n",
    "        y_center = (ymin + ymax) / 2\n",
    "        width = xmax - xmin\n",
    "        height = ymax - ymin\n",
    "\n",
    "        x_center /= img_width\n",
    "        y_center /= img_height\n",
    "        width /= img_width\n",
    "        height /= img_height\n",
    "\n",
    "        class_id = 0\n",
    "\n",
    "        yolo_format.append(f\"{class_id} {x_center:.6f} {y_center:.6f} {width:.6f} {height:.6f}\")\n",
    "\n",
    "    return yolo_format"
   ]
  },
  {
   "cell_type": "code",
   "execution_count": 1,
   "metadata": {},
   "outputs": [],
   "source": [
    "def process_json_file(json_file_path, output_dir):\n",
    "    \"\"\"\n",
    "    Function to process a json file and convert it to yolo format\n",
    "\n",
    "    Args:\n",
    "        json_file_path (str): path to the json file\n",
    "        output_dir (str): output directory to save the yolo format file\n",
    "    \"\"\"\n",
    "    with open(json_file_path, 'r') as f:\n",
    "        json_data = json.load(f)\n",
    "    \n",
    "    img_width = json_data[\"imageWidth\"]\n",
    "    img_height = json_data[\"imageHeight\"]\n",
    "\n",
    "    yolo_labels = convert_to_yolo_format(json_data, img_width, img_height)\n",
    "\n",
    "    image_name = os.path.splitext(os.path.basename(json_file_path))[0]\n",
    "    output_file_path = os.path.join(output_dir, f\"{image_name}.txt\")\n",
    "\n",
    "    with open(output_file_path, 'w') as f:\n",
    "        for label in yolo_labels:\n",
    "            f.write(f\"{label}\\n\")"
   ]
  },
  {
   "cell_type": "code",
   "execution_count": 4,
   "metadata": {},
   "outputs": [],
   "source": [
    "def process_json_directory(json_dir, output_dir):\n",
    "    \"\"\"\n",
    "    Function to process a directory of json files and convert them to yolo format\n",
    "    \n",
    "    Args:\n",
    "        json_dir (str): directory containing json files\n",
    "        output_dir (str): output directory to save the yolo format files\n",
    "    \"\"\"\n",
    "    \n",
    "    if not os.path.exists(output_dir):\n",
    "        os.makedirs(output_dir)\n",
    "    \n",
    "    for json_file in os.listdir(json_dir):\n",
    "        if json_file.endswith(\".json\"):\n",
    "            json_file_path = os.path.join(json_dir, json_file)\n",
    "            process_json_file(json_file_path, output_dir)"
   ]
  },
  {
   "cell_type": "code",
   "execution_count": 5,
   "metadata": {},
   "outputs": [],
   "source": [
    "if __name__ == \"__main__\":\n",
    "    json_dir = \"/home/chaitanya/Academics/3rd_Semester/DLRV/project/data/json_files\"\n",
    "    \n",
    "    output_dir = \"/home/chaitanya/Academics/3rd_Semester/DLRV/project/data/labels\"\n",
    "    \n",
    "    process_json_directory(json_dir, output_dir)"
   ]
  },
  {
   "cell_type": "markdown",
   "metadata": {},
   "source": [
    "### Splitting Data into Training and Validation Sets"
   ]
  },
  {
   "cell_type": "code",
   "execution_count": null,
   "metadata": {},
   "outputs": [],
   "source": [
    "images_folder = '/home/chaitanya/Academics/3rd_Semester/DLRV/project/data/images'\n",
    "labels_folder = '/home/chaitanya/Academics/3rd)Semester/DLRV/project/data/labels'\n",
    "train_images_folder = '/home/chaitanya/Academics/3rd_Semester/DLRV/project/data/images/train'\n",
    "train_labels_folder = '/home/chaitanya/Academics/3rd_Semester/DLRV/project/data/labels/train'\n",
    "val_images_folder = '/home/chaitanya/Academics/3rd_Semester/DLRV/project/data/images/val'\n",
    "val_labels_folder = '/home/chaitanya/Academics/3rd_Semester/DLRV/project/data/labels/val'\n",
    "\n",
    "os.makedirs(train_images_folder, exist_ok=True)\n",
    "os.makedirs(train_labels_folder, exist_ok=True)\n",
    "os.makedirs(val_images_folder, exist_ok=True)\n",
    "os.makedirs(val_labels_folder, exist_ok=True)\n",
    "\n",
    "image_files = [f for f in os.listdir(images_folder) if f.endswith(('.png', '.jpg'))]\n",
    "\n",
    "random.shuffle(image_files)\n",
    "\n",
    "train_images = image_files[:1000]\n",
    "val_images = image_files[1000:1200]\n",
    "\n",
    "for image in train_images:\n",
    "    image_path = os.path.join(images_folder, image)\n",
    "    label_name = os.path.splitext(image)[0] + '.txt'\n",
    "    label_path = os.path.join(labels_folder, label_name)\n",
    "\n",
    "    shutil.move(image_path, os.path.join(train_images_folder, image))\n",
    "\n",
    "    if os.path.exists(label_path):\n",
    "        shutil.move(label_path, os.path.join(train_labels_folder, label_name))\n",
    "\n",
    "for image in val_images:\n",
    "    image_path = os.path.join(images_folder, image)\n",
    "    label_name = os.path.splitext(image)[0] + '.txt'\n",
    "    label_path = os.path.join(labels_folder, label_name)\n",
    "\n",
    "    shutil.move(image_path, os.path.join(val_images_folder, image))\n",
    "\n",
    "    if os.path.exists(label_path):\n",
    "        shutil.move(label_path, os.path.join(val_labels_folder, label_name))\n",
    "\n",
    "print(\"Data successfully split into train and validation sets.\")"
   ]
  }
 ],
 "metadata": {
  "kernelspec": {
   "display_name": "Python 3",
   "language": "python",
   "name": "python3"
  },
  "language_info": {
   "codemirror_mode": {
    "name": "ipython",
    "version": 3
   },
   "file_extension": ".py",
   "mimetype": "text/x-python",
   "name": "python",
   "nbconvert_exporter": "python",
   "pygments_lexer": "ipython3",
   "version": "3.10.12"
  }
 },
 "nbformat": 4,
 "nbformat_minor": 2
}
